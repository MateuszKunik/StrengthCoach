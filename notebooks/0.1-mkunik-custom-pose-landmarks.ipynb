{
 "cells": [
  {
   "cell_type": "code",
   "execution_count": 11,
   "metadata": {},
   "outputs": [],
   "source": [
    "from mediapipe import solutions\n",
    "mp_pose = solutions.pose"
   ]
  },
  {
   "cell_type": "code",
   "execution_count": 2,
   "metadata": {},
   "outputs": [],
   "source": [
    "# Selected values of pose landmarks corresponding to MediaPipe library\n",
    "values = [\n",
    "    0, # NOSE\n",
    "    11, # LEFT_SHOULDER\n",
    "    12, # RIGHT_SHOULDER\n",
    "    13, # LEFT_ELBOW\n",
    "    14, # RIGHT_ELBOW\n",
    "    15, # LEFT_WRIST\n",
    "    16, # RIGHT_WRIST\n",
    "    19, # LEFT_INDEX\n",
    "    20, # RIGHT_INDEX\n",
    "    23, # LEFT_HIP\n",
    "    24, # RIGHT_HIP\n",
    "    25, # LEFT_KNEE\n",
    "    26, # RIGHT_KNEE\n",
    "    27, # LEFT_ANKLE\n",
    "    28, # RIGHT_ANKLE\n",
    "    31, # LEFT_FOOT_INDEX\n",
    "    32, # RIGHT_FOOT_INDEX\n",
    "]"
   ]
  },
  {
   "cell_type": "code",
   "execution_count": 3,
   "metadata": {},
   "outputs": [
    {
     "data": {
      "text/plain": [
       "{0: {'landmark_name': 'NOSE', 'new_value': 0},\n",
       " 11: {'landmark_name': 'LEFT_SHOULDER', 'new_value': 1},\n",
       " 12: {'landmark_name': 'RIGHT_SHOULDER', 'new_value': 2},\n",
       " 13: {'landmark_name': 'LEFT_ELBOW', 'new_value': 3},\n",
       " 14: {'landmark_name': 'RIGHT_ELBOW', 'new_value': 4},\n",
       " 15: {'landmark_name': 'LEFT_WRIST', 'new_value': 5},\n",
       " 16: {'landmark_name': 'RIGHT_WRIST', 'new_value': 6},\n",
       " 19: {'landmark_name': 'LEFT_INDEX', 'new_value': 7},\n",
       " 20: {'landmark_name': 'RIGHT_INDEX', 'new_value': 8},\n",
       " 23: {'landmark_name': 'LEFT_HIP', 'new_value': 9},\n",
       " 24: {'landmark_name': 'RIGHT_HIP', 'new_value': 10},\n",
       " 25: {'landmark_name': 'LEFT_KNEE', 'new_value': 11},\n",
       " 26: {'landmark_name': 'RIGHT_KNEE', 'new_value': 12},\n",
       " 27: {'landmark_name': 'LEFT_ANKLE', 'new_value': 13},\n",
       " 28: {'landmark_name': 'RIGHT_ANKLE', 'new_value': 14},\n",
       " 31: {'landmark_name': 'LEFT_FOOT_INDEX', 'new_value': 15},\n",
       " 32: {'landmark_name': 'RIGHT_FOOT_INDEX', 'new_value': 16},\n",
       " 33: {'landmark_name': 'THORAX', 'new_value': 17}}"
      ]
     },
     "execution_count": 3,
     "metadata": {},
     "output_type": "execute_result"
    }
   ],
   "source": [
    "# Create a dictionary to store landmark names and new values\n",
    "landmarks = dict()\n",
    "\n",
    "for index, value in enumerate(values):\n",
    "    # Extract pose landmark names\n",
    "    name = mp_pose.PoseLandmark(value).name\n",
    "    # Complete the dictionary with names and values\n",
    "    landmarks[value] = {\n",
    "        'landmark_name' : name,\n",
    "        'new_value' : index\n",
    "    }\n",
    "    \n",
    "# Add a completely new pose landmark\n",
    "landmarks[max(landmarks) + 1] = {\n",
    "    'landmark_name' : 'THORAX',\n",
    "    'new_value' : len(landmarks)\n",
    "}\n",
    "\n",
    "landmarks"
   ]
  },
  {
   "cell_type": "code",
   "execution_count": 4,
   "metadata": {},
   "outputs": [
    {
     "data": {
      "text/plain": [
       "{(0, 17),\n",
       " (1, 2),\n",
       " (1, 3),\n",
       " (1, 9),\n",
       " (2, 4),\n",
       " (2, 10),\n",
       " (3, 5),\n",
       " (4, 6),\n",
       " (5, 7),\n",
       " (6, 8),\n",
       " (9, 10),\n",
       " (9, 11),\n",
       " (10, 12),\n",
       " (11, 13),\n",
       " (12, 14),\n",
       " (13, 15),\n",
       " (14, 16)}"
      ]
     },
     "execution_count": 4,
     "metadata": {},
     "output_type": "execute_result"
    }
   ],
   "source": [
    "# Create a custom connections set\n",
    "connections = set()\n",
    "\n",
    "for connection in mp_pose.POSE_CONNECTIONS:\n",
    "    # Extract old values from POSE_CONNECTIONS\n",
    "    v1, v2 = connection\n",
    "    # Check if the values are expected\n",
    "    if v1 in values and v2 in values:\n",
    "        # Create connections for new values\n",
    "        connections.add(\n",
    "            (landmarks[v1]['new_value'], landmarks[v2]['new_value'])\n",
    "        )\n",
    "\n",
    "# Add a new connection\n",
    "connections.add(\n",
    "    (landmarks[0]['new_value'], landmarks[33]['new_value'])\n",
    "        )\n",
    "\n",
    "connections"
   ]
  },
  {
   "cell_type": "code",
   "execution_count": 26,
   "metadata": {},
   "outputs": [],
   "source": [
    "from enum import Enum"
   ]
  },
  {
   "cell_type": "code",
   "execution_count": 28,
   "metadata": {},
   "outputs": [],
   "source": [
    "class CustomPoseLandmark(Enum):\n",
    "    NOSE = 0\n",
    "    LEFT_SHOULDER = 11\n",
    "    RIGHT_SHOULDER = 12\n",
    "    LEFT_ELBOW = 13\n",
    "    RIGHT_ELBOW = 14\n",
    "    LEFT_WRIST = 15\n",
    "    RIGHT_WRIST = 16\n",
    "    LEFT_INDEX = 19\n",
    "    RIGHT_INDEX = 20\n",
    "    LEFT_HIP = 23\n",
    "    RIGHT_HIP = 24\n",
    "    LEFT_KNEE = 25\n",
    "    RIGHT_KNEE = 26\n",
    "    LEFT_ANKLE = 27\n",
    "    RIGHT_ANKLE = 28\n",
    "    LEFT_FOOT_INDEX = 31\n",
    "    RIGHT_FOOT_INDEX = 32\n",
    "    THORAX = 33\n",
    "\n",
    "    # def __init__(self):\n",
    "    #     pass\n",
    "\n",
    "    def mapping(item1, item2):\n",
    "        \n",
    "\n",
    "        return item1 + item2"
   ]
  },
  {
   "cell_type": "code",
   "execution_count": 30,
   "metadata": {},
   "outputs": [],
   "source": [
    "test = CustomPoseLandmark"
   ]
  },
  {
   "cell_type": "code",
   "execution_count": 31,
   "metadata": {},
   "outputs": [
    {
     "data": {
      "text/plain": [
       "3"
      ]
     },
     "execution_count": 31,
     "metadata": {},
     "output_type": "execute_result"
    }
   ],
   "source": [
    "test.mapping(1, 2)"
   ]
  },
  {
   "cell_type": "code",
   "execution_count": null,
   "metadata": {},
   "outputs": [],
   "source": []
  }
 ],
 "metadata": {
  "kernelspec": {
   "display_name": "venv",
   "language": "python",
   "name": "python3"
  },
  "language_info": {
   "codemirror_mode": {
    "name": "ipython",
    "version": 3
   },
   "file_extension": ".py",
   "mimetype": "text/x-python",
   "name": "python",
   "nbconvert_exporter": "python",
   "pygments_lexer": "ipython3",
   "version": "3.11.1"
  },
  "orig_nbformat": 4
 },
 "nbformat": 4,
 "nbformat_minor": 2
}
