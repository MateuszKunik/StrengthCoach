{
 "cells": [
  {
   "cell_type": "code",
   "execution_count": 1,
   "metadata": {},
   "outputs": [],
   "source": [
    "import numpy as np\n",
    "import pandas as pd\n",
    "import matplotlib.pyplot as plt\n",
    "from mediapipe import solutions\n",
    "\n",
    "from video_converter import Video2DataFrame\n",
    "from custom_pose_landmarks import CustomPoseLandmark"
   ]
  },
  {
   "cell_type": "code",
   "execution_count": 2,
   "metadata": {},
   "outputs": [],
   "source": [
    "# Selected values of pose landmarks corresponding to PoseLandmark class from MediaPipe library\n",
    "values = [0, 11, 12, 13, 14, 15, 16, 19, 20, 23, 24, 25, 26, 27, 28, 31, 32]\n",
    "\n",
    "# Custom pose landmark names and their connections\n",
    "landmarks = {\n",
    "    'THORAX': ['NOSE'],\n",
    "    'PELVIS': ['LEFT_HIP', 'RIGHT_HIP'],\n",
    "}\n",
    "\n",
    "# MediaPipe solutions\n",
    "mp_drawing = solutions.drawing_utils\n",
    "mp_pose = solutions.pose\n",
    "\n",
    "custom_pose = CustomPoseLandmark(mp_pose, values, landmarks)\n",
    "converter = Video2DataFrame(mp_pose, mp_drawing, custom_pose)"
   ]
  },
  {
   "cell_type": "code",
   "execution_count": 5,
   "metadata": {},
   "outputs": [
    {
     "name": "stdout",
     "output_type": "stream",
     "text": [
      "Converting 005_02_05_05_040_1_L file to dataframe...\n",
      "Converting 013_10_15_01_085_1_C file to dataframe...\n",
      "Converting 001_02_03_02_070_1_L file to dataframe...\n"
     ]
    }
   ],
   "source": [
    "path = '../data/raw/squat'\n",
    "\n",
    "dataframe = converter.get_dataframe(path, n_samples=3, detection=0.9, tracking=0.9)"
   ]
  },
  {
   "cell_type": "code",
   "execution_count": null,
   "metadata": {},
   "outputs": [],
   "source": []
  },
  {
   "cell_type": "code",
   "execution_count": null,
   "metadata": {},
   "outputs": [],
   "source": []
  },
  {
   "cell_type": "code",
   "execution_count": null,
   "metadata": {},
   "outputs": [],
   "source": []
  },
  {
   "cell_type": "code",
   "execution_count": null,
   "metadata": {},
   "outputs": [],
   "source": []
  },
  {
   "cell_type": "code",
   "execution_count": null,
   "metadata": {},
   "outputs": [],
   "source": []
  },
  {
   "cell_type": "code",
   "execution_count": null,
   "metadata": {},
   "outputs": [],
   "source": []
  },
  {
   "cell_type": "code",
   "execution_count": null,
   "metadata": {},
   "outputs": [],
   "source": []
  }
 ],
 "metadata": {
  "kernelspec": {
   "display_name": "venv",
   "language": "python",
   "name": "python3"
  },
  "language_info": {
   "codemirror_mode": {
    "name": "ipython",
    "version": 3
   },
   "file_extension": ".py",
   "mimetype": "text/x-python",
   "name": "python",
   "nbconvert_exporter": "python",
   "pygments_lexer": "ipython3",
   "version": "3.11.1"
  },
  "orig_nbformat": 4
 },
 "nbformat": 4,
 "nbformat_minor": 2
}
