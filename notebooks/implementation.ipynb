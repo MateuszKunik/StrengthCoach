{
 "cells": [
  {
   "cell_type": "code",
   "execution_count": 1,
   "metadata": {},
   "outputs": [],
   "source": [
    "import os\n",
    "import numpy as np\n",
    "import pandas as pd\n",
    "from mediapipe import solutions\n",
    "\n",
    "from video_converter import Video2DataFrame\n",
    "from custom_pose_landmarks import CustomPoseLandmark"
   ]
  },
  {
   "cell_type": "code",
   "execution_count": null,
   "metadata": {},
   "outputs": [],
   "source": [
    "# # Prepare paths\n",
    "# data_path = '../data/'\n",
    "# video_path = os.path.join(data_path, 'raw/squat')\n",
    "\n",
    "# # Read personal data from excel\n",
    "# personal_data = pd.read_excel(os.path.join(data_path, 'PersonalData.xlsx'))\n",
    "\n",
    "# # Processed data path\n",
    "# processed_data = os.path.join(data_path, 'processed')"
   ]
  },
  {
   "cell_type": "code",
   "execution_count": 2,
   "metadata": {},
   "outputs": [],
   "source": [
    "# Selected values of pose landmarks corresponding to PoseLandmark class from MediaPipe library\n",
    "values = [0, 11, 12, 13, 14, 15, 16, 19, 20, 23, 24, 25, 26, 27, 28, 31, 32]\n",
    "\n",
    "# Custom pose landmark names and their connections\n",
    "landmarks = {\n",
    "    'THORAX': ['NOSE'],\n",
    "    'PELVIS': ['LEFT_HIP', 'RIGHT_HIP'],}\n",
    "\n",
    "# MediaPipe solutions\n",
    "mp_drawing = solutions.drawing_utils\n",
    "mp_pose = solutions.pose\n",
    "\n",
    "custom_pose = CustomPoseLandmark(mp_pose, values, landmarks)\n",
    "conv = Video2DataFrame(mp_pose, mp_drawing, custom_pose)"
   ]
  },
  {
   "cell_type": "code",
   "execution_count": 3,
   "metadata": {},
   "outputs": [
    {
     "data": {
      "text/plain": [
       "19"
      ]
     },
     "execution_count": 3,
     "metadata": {},
     "output_type": "execute_result"
    }
   ],
   "source": [
    "len(custom_pose)"
   ]
  },
  {
   "cell_type": "code",
   "execution_count": 5,
   "metadata": {},
   "outputs": [
    {
     "data": {
      "text/plain": [
       "19"
      ]
     },
     "execution_count": 5,
     "metadata": {},
     "output_type": "execute_result"
    }
   ],
   "source": [
    "custom_pose.num_elements()"
   ]
  },
  {
   "cell_type": "code",
   "execution_count": 7,
   "metadata": {},
   "outputs": [
    {
     "data": {
      "text/plain": [
       "[(17, 0),\n",
       " (4, 6),\n",
       " (14, 16),\n",
       " (5, 7),\n",
       " (9, 11),\n",
       " (1, 3),\n",
       " (10, 12),\n",
       " (1, 9),\n",
       " (18, 10),\n",
       " (6, 8),\n",
       " (9, 10),\n",
       " (2, 4),\n",
       " (1, 2),\n",
       " (11, 13),\n",
       " (2, 10),\n",
       " (18, 9),\n",
       " (3, 5),\n",
       " (12, 14),\n",
       " (13, 15)]"
      ]
     },
     "execution_count": 7,
     "metadata": {},
     "output_type": "execute_result"
    }
   ],
   "source": [
    "list(custom_pose.get_connections())"
   ]
  },
  {
   "cell_type": "code",
   "execution_count": 48,
   "metadata": {},
   "outputs": [],
   "source": [
    "class Graph():\n",
    "    \"\"\"\n",
    "    \n",
    "    \"\"\"\n",
    "    def __init__(self, layout, strategy='lol', max_distance=1, dilation=1):\n",
    "        # Init\n",
    "        self.max_distance = max_distance\n",
    "        self.dilation = dilation\n",
    "\n",
    "        self.edges = self.get_edges(layout)[0]\n",
    "\n",
    "\n",
    "    def get_edges(self, layout):\n",
    "        \"\"\"\n",
    "        \n",
    "        \"\"\"\n",
    "        # Extract the number of nodes in the layout\n",
    "        self.num_node = layout.num_elements()\n",
    "        # Create a self-loop for each node\n",
    "        self_link = [(i, i) for i in range(self.num_node)]\n",
    "        # Extract connections from custome layout\n",
    "        neighbor_link = list(layout.get_connections())\n",
    "\n",
    "        # Prepare the edges and center of the graph\n",
    "        edges = self_link + neighbor_link\n",
    "        center = 1\n",
    "\n",
    "        return edges, center\n",
    "\n",
    "\n",
    "    def get_hop_distance(self):\n",
    "        \"\"\" \n",
    "        \n",
    "        \"\"\"\n",
    "        # Create a basic adjacency matrix\n",
    "        adjacency_matrix = np.zeros((self.num_node, self.num_node))\n",
    "\n",
    "        for i, j in self.edges:\n",
    "            adjacency_matrix[i, j] = 1\n",
    "            adjacency_matrix[j, i] = 1\n",
    "\n",
    "        # Prepare a hop distance matrix storage\n",
    "        distance_matrix = np.zeros_like(adjacency_matrix) + np.inf\n",
    "\n",
    "        # Calculate the consecutive powers of the adjacency matrix\n",
    "        transfer_matrix = [\n",
    "            np.linalg.matrix_power(adjacency_matrix, d) for d in range(self.max_distance + 1)\n",
    "        ]\n",
    "\n",
    "        arrive_matrix = (np.stack(transfer_matrix) > 0)\n",
    "\n",
    "        # Calculate hop distances for each node\n",
    "        for d in range(self.max_distance, -1, -1):\n",
    "            distance_matrix[arrive_matrix[d]] = d\n",
    "\n",
    "        return distance_matrix\n",
    "\n",
    "\n",
    "    def normalize(self, matrix):\n",
    "        \"\"\" \n",
    "        normalize undirected graph, symmetry matrix\n",
    "        \"\"\"\n",
    "        # Calculate degree (number of links) for each node\n",
    "        degree_vector = np.sum(matrix, 0)\n",
    "\n",
    "        # Prepare a diagonal matrix storage\n",
    "        diagonal = np.zeros((self.num_node, self.num_node))\n",
    "        \n",
    "        # Calculate diagonal matrix\n",
    "        for i in range(self.num_node):\n",
    "            if degree_vector[i] > 0:\n",
    "                diagonal[i, i] = degree_vector[i] ** (-0.5)\n",
    "    \n",
    "        normalized_matrix = np.dot(np.dot(diagonal, matrix), diagonal)\n",
    "\n",
    "        return normalized_matrix\n",
    "    \n",
    "\n",
    "    def get_adjacency_matrix(self, strategy):\n",
    "        \"\"\" \n",
    "        \n",
    "        \"\"\"\n",
    "        hop_distances = range(0, self.max_distance + 1, self.dilation)\n",
    "        adjacency_matrix = np.zeros((self.num_node, self.num_node))\n",
    "\n",
    "        #\n",
    "        distance_matrix = self.get_hop_distance()\n",
    "\n",
    "        for hop in hop_distances:\n",
    "            adjacency_matrix[distance_matrix == hop] = 1\n",
    "\n",
    "        # normalize adjacency matrix\n",
    "        normalized_adjacency = self.normalize(adjacency_matrix)\n",
    "\n",
    "        if strategy == 'uniform':\n",
    "            adjacency = np.zeros((1, self.num_node, self.num_node))\n",
    "            adjacency[0] = normalized_adjacency\n",
    "\n",
    "            return adjacency\n",
    "        \n",
    "        elif strategy == 'distance':\n",
    "            pass\n",
    "\n",
    "        elif strategy == 'spatial':\n",
    "            pass\n",
    "\n",
    "        else:\n",
    "            raise ValueError('strategy error')"
   ]
  },
  {
   "cell_type": "code",
   "execution_count": 49,
   "metadata": {},
   "outputs": [],
   "source": [
    "graph = Graph(custom_pose)"
   ]
  },
  {
   "cell_type": "code",
   "execution_count": 61,
   "metadata": {},
   "outputs": [
    {
     "data": {
      "text/plain": [
       "19"
      ]
     },
     "execution_count": 61,
     "metadata": {},
     "output_type": "execute_result"
    }
   ],
   "source": [
    "graph.num_node"
   ]
  },
  {
   "cell_type": "code",
   "execution_count": 64,
   "metadata": {},
   "outputs": [],
   "source": [
    "hop_distances = range(0, 1 + 1, 1)\n",
    "adjacency_matrix = np.zeros((graph.num_node, graph.num_node))\n",
    "\n",
    "#\n",
    "distance_matrix = graph.get_hop_distance()\n",
    "\n",
    "for hop in hop_distances:\n",
    "    adjacency_matrix[distance_matrix == hop] = 1\n",
    "\n",
    "# normalize adjacency matrix\n",
    "normalized_adjacency = graph.normalize(adjacency_matrix)"
   ]
  },
  {
   "cell_type": "code",
   "execution_count": 67,
   "metadata": {},
   "outputs": [
    {
     "data": {
      "text/plain": [
       "array([1.        , 1.01228193, 1.01228193, 0.9553418 , 0.9553418 ,\n",
       "       1.07491496, 1.07491496, 0.90824829, 0.90824829, 1.14000458,\n",
       "       1.14000458, 0.92486556, 0.92486556, 1.07491496, 1.07491496,\n",
       "       0.90824829, 0.90824829, 1.        , 0.84973111])"
      ]
     },
     "execution_count": 67,
     "metadata": {},
     "output_type": "execute_result"
    }
   ],
   "source": [
    "np.sum(normalized_adjacency, 1)"
   ]
  },
  {
   "cell_type": "code",
   "execution_count": 27,
   "metadata": {},
   "outputs": [
    {
     "name": "stdout",
     "output_type": "stream",
     "text": [
      "0\n",
      "1\n"
     ]
    }
   ],
   "source": [
    "for hop in hop_distances:\n",
    "    print(hop)\n",
    "    "
   ]
  },
  {
   "cell_type": "code",
   "execution_count": 28,
   "metadata": {},
   "outputs": [
    {
     "data": {
      "text/plain": [
       "array([[1, 1, 0, 0],\n",
       "       [1, 1, 0, 1],\n",
       "       [0, 0, 1, 0],\n",
       "       [0, 1, 0, 1]])"
      ]
     },
     "execution_count": 28,
     "metadata": {},
     "output_type": "execute_result"
    }
   ],
   "source": [
    "distance_matrix"
   ]
  },
  {
   "cell_type": "code",
   "execution_count": 29,
   "metadata": {},
   "outputs": [
    {
     "data": {
      "text/plain": [
       "array([[False, False,  True,  True],\n",
       "       [False, False,  True, False],\n",
       "       [ True,  True, False,  True],\n",
       "       [ True, False,  True, False]])"
      ]
     },
     "execution_count": 29,
     "metadata": {},
     "output_type": "execute_result"
    }
   ],
   "source": [
    "distance_matrix == 0"
   ]
  },
  {
   "cell_type": "code",
   "execution_count": 30,
   "metadata": {},
   "outputs": [
    {
     "data": {
      "text/plain": [
       "array([[0., 0., 0., 0.],\n",
       "       [0., 0., 0., 0.],\n",
       "       [0., 0., 0., 0.],\n",
       "       [0., 0., 0., 0.]])"
      ]
     },
     "execution_count": 30,
     "metadata": {},
     "output_type": "execute_result"
    }
   ],
   "source": [
    "adjacency_matrix"
   ]
  },
  {
   "cell_type": "code",
   "execution_count": null,
   "metadata": {},
   "outputs": [],
   "source": []
  }
 ],
 "metadata": {
  "kernelspec": {
   "display_name": "sc_env",
   "language": "python",
   "name": "python3"
  },
  "language_info": {
   "codemirror_mode": {
    "name": "ipython",
    "version": 3
   },
   "file_extension": ".py",
   "mimetype": "text/x-python",
   "name": "python",
   "nbconvert_exporter": "python",
   "pygments_lexer": "ipython3",
   "version": "3.11.1"
  }
 },
 "nbformat": 4,
 "nbformat_minor": 2
}
