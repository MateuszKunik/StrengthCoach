{
 "cells": [
  {
   "cell_type": "code",
   "execution_count": 1,
   "metadata": {},
   "outputs": [],
   "source": [
    "import os\n",
    "import numpy as np\n",
    "import pandas as pd\n",
    "from mediapipe import solutions\n",
    "\n",
    "from video_converter import Video2DataFrame\n",
    "from custom_pose_landmarks import CustomPoseLandmark"
   ]
  },
  {
   "cell_type": "code",
   "execution_count": null,
   "metadata": {},
   "outputs": [],
   "source": [
    "# # Prepare paths\n",
    "# data_path = '../data/'\n",
    "# video_path = os.path.join(data_path, 'raw/squat')\n",
    "\n",
    "# # Read personal data from excel\n",
    "# personal_data = pd.read_excel(os.path.join(data_path, 'PersonalData.xlsx'))\n",
    "\n",
    "# # Processed data path\n",
    "# processed_data = os.path.join(data_path, 'processed')"
   ]
  },
  {
   "cell_type": "code",
   "execution_count": 2,
   "metadata": {},
   "outputs": [],
   "source": [
    "# Selected values of pose landmarks corresponding to PoseLandmark class from MediaPipe library\n",
    "values = [0, 11, 12, 13, 14, 15, 16, 19, 20, 23, 24, 25, 26, 27, 28, 31, 32]\n",
    "\n",
    "# Custom pose landmark names and their connections\n",
    "landmarks = {\n",
    "    'THORAX': ['NOSE'],\n",
    "    'PELVIS': ['LEFT_HIP', 'RIGHT_HIP'],}\n",
    "\n",
    "# MediaPipe solutions\n",
    "mp_drawing = solutions.drawing_utils\n",
    "mp_pose = solutions.pose\n",
    "\n",
    "custom_pose = CustomPoseLandmark(mp_pose, values, landmarks)\n",
    "conv = Video2DataFrame(mp_pose, mp_drawing, custom_pose)"
   ]
  },
  {
   "cell_type": "code",
   "execution_count": 23,
   "metadata": {},
   "outputs": [],
   "source": [
    "class Graph():\n",
    "    \"\"\"\n",
    "    \n",
    "    \"\"\"\n",
    "    def __init__(self, layout, strategy='uniform', max_distance=1, dilation=1):\n",
    "        # Init\n",
    "        self.max_distance = max_distance\n",
    "        self.dilation = dilation\n",
    "        \n",
    "        self.graph_edges, self.graph_center = self.get_edges(layout)\n",
    "        self.adjacency = self.get_adjacency_matrix()\n",
    "\n",
    "\n",
    "    def get_edges(self, layout):\n",
    "        \"\"\"\n",
    "        \n",
    "        \"\"\"\n",
    "        # Extract the number of nodes in the layout\n",
    "        self.num_node = layout.num_elements()\n",
    "        # Create a self-loop for each node\n",
    "        self_link = [(i, i) for i in range(self.num_node)]\n",
    "        # Extract connections from custome layout\n",
    "        neighbor_link = list(layout.get_connections())\n",
    "\n",
    "        # Prepare the edges and center of the graph\n",
    "        edges = self_link + neighbor_link\n",
    "        center = 1\n",
    "\n",
    "        return edges, center\n",
    "\n",
    "\n",
    "    def get_adjacency_matrix(self):\n",
    "        \"\"\" \n",
    "        \n",
    "        \"\"\"\n",
    "        # Prepare adjacency matrix storage based on the number of nodes in the graph\n",
    "        adjacency_matrix = np.zeros((self.num_node, self.num_node))\n",
    "\n",
    "        # Fill the matrix based on the list of edges\n",
    "        for i, j in self.graph_edges:\n",
    "            adjacency_matrix[i, j] = 1\n",
    "            adjacency_matrix[j, i] = 1\n",
    "\n",
    "        return adjacency_matrix\n",
    "\n",
    "    \n",
    "    def get_distance_matrix(self):\n",
    "        \"\"\" \n",
    "        \n",
    "        \"\"\"\n",
    "        # Prepare a hop distance matrix storage\n",
    "        distance_matrix = np.zeros_like(self.adjacency) + np.inf\n",
    "\n",
    "        # Calculate the consecutive powers of the adjacency matrix\n",
    "        transfer_matrix = [\n",
    "            np.linalg.matrix_power(self.adjacency, d) for d in range(self.max_distance + 1)\n",
    "        ]\n",
    "\n",
    "        arrive_matrix = (np.stack(transfer_matrix) > 0)\n",
    "\n",
    "        # Calculate hop distances for each node\n",
    "        for d in range(self.max_distance, -1, -1):\n",
    "            distance_matrix[arrive_matrix[d]] = d\n",
    "\n",
    "        return distance_matrix\n",
    "\n",
    "\n",
    "    def normalize(self, matrix):\n",
    "        \"\"\" \n",
    "        normalize undirected graph, symmetry matrix\n",
    "        \"\"\"\n",
    "        # Calculate degree (number of links) for each node\n",
    "        degree_vector = np.sum(matrix, 0)\n",
    "\n",
    "        # Prepare a diagonal matrix storage\n",
    "        diagonal = np.zeros((self.num_node, self.num_node))\n",
    "        \n",
    "        # Calculate diagonal matrix\n",
    "        for i in range(self.num_node):\n",
    "            if degree_vector[i] > 0:\n",
    "                diagonal[i, i] = degree_vector[i] ** (-0.5)\n",
    "    \n",
    "        normalized_matrix = np.dot(np.dot(diagonal, matrix), diagonal)\n",
    "\n",
    "        return normalized_matrix\n",
    "    \n",
    "\n",
    "    def label_mapping(self, strategy):\n",
    "        \"\"\" \n",
    "        \n",
    "        \"\"\"\n",
    "        # \n",
    "        valid_hop = range(0, self.max_distance + 1, self.dilation)\n",
    "\n",
    "        # \n",
    "        adjacency = self.get_adjacency_matrix()\n",
    "        distance = self.get_distance_matrix()\n",
    "\n",
    "        # Extend adjacency matrix based on hop distances\n",
    "        for hop in valid_hop:\n",
    "            adjacency[distance == hop] = 1\n",
    "\n",
    "        # Normalize adjacency matrix before implementing the strategy\n",
    "        normalized = self.normalize(adjacency)\n",
    "\n",
    "        if strategy == 'uniform':\n",
    "            labels = np.expand_dims(normalized, axis=0)\n",
    "        \n",
    "        elif strategy == 'distance':\n",
    "            labels = np.zeros((len(valid_hop), self.num_node, self.num_node))\n",
    "\n",
    "            for i, hop in enumerate(valid_hop):\n",
    "                labels[i][distance == hop] = normalized[distance == hop]\n",
    "\n",
    "        elif strategy == 'spatial':\n",
    "            pass\n",
    "\n",
    "        else:\n",
    "            raise ValueError('strategy error')\n",
    "        \n",
    "        return labels"
   ]
  },
  {
   "cell_type": "code",
   "execution_count": 25,
   "metadata": {},
   "outputs": [],
   "source": [
    "# Selected values of pose landmarks corresponding to PoseLandmark class from MediaPipe library\n",
    "values = [0, 11, 12, 13]\n",
    "\n",
    "# Custom pose landmark names and their connections\n",
    "landmarks = {\n",
    "    'THORAX': ['NOSE']}\n",
    "\n",
    "# MediaPipe solutions\n",
    "mp_drawing = solutions.drawing_utils\n",
    "mp_pose = solutions.pose\n",
    "\n",
    "custom_pose = CustomPoseLandmark(mp_pose, values, landmarks)\n",
    "# conv = Video2DataFrame(mp_pose, mp_drawing, custom_pose)"
   ]
  },
  {
   "cell_type": "code",
   "execution_count": 26,
   "metadata": {},
   "outputs": [
    {
     "data": {
      "text/plain": [
       "{(1, 2), (1, 3), (4, 0)}"
      ]
     },
     "execution_count": 26,
     "metadata": {},
     "output_type": "execute_result"
    }
   ],
   "source": [
    "custom_pose.get_connections()"
   ]
  },
  {
   "cell_type": "code",
   "execution_count": 39,
   "metadata": {},
   "outputs": [],
   "source": [
    "graph = Graph(\n",
    "    layout=custom_pose,\n",
    "    strategy='distance',\n",
    "    max_distance=1,\n",
    "    dilation=1\n",
    ")"
   ]
  },
  {
   "cell_type": "code",
   "execution_count": 40,
   "metadata": {},
   "outputs": [
    {
     "data": {
      "text/plain": [
       "array([[1., 0., 0., 0., 1.],\n",
       "       [0., 1., 1., 1., 0.],\n",
       "       [0., 1., 1., 0., 0.],\n",
       "       [0., 1., 0., 1., 0.],\n",
       "       [1., 0., 0., 0., 1.]])"
      ]
     },
     "execution_count": 40,
     "metadata": {},
     "output_type": "execute_result"
    }
   ],
   "source": [
    "graph.adjacency"
   ]
  },
  {
   "cell_type": "code",
   "execution_count": 41,
   "metadata": {},
   "outputs": [
    {
     "data": {
      "text/plain": [
       "array([[1., 0., 0., 0., 1.],\n",
       "       [0., 1., 1., 1., 0.],\n",
       "       [0., 1., 1., 0., 0.],\n",
       "       [0., 1., 0., 1., 0.],\n",
       "       [1., 0., 0., 0., 1.]])"
      ]
     },
     "execution_count": 41,
     "metadata": {},
     "output_type": "execute_result"
    }
   ],
   "source": [
    "graph.get_adjacency_matrix()"
   ]
  },
  {
   "cell_type": "code",
   "execution_count": 42,
   "metadata": {},
   "outputs": [
    {
     "data": {
      "text/plain": [
       "array([[ 0., inf, inf, inf,  1.],\n",
       "       [inf,  0.,  1.,  1., inf],\n",
       "       [inf,  1.,  0., inf, inf],\n",
       "       [inf,  1., inf,  0., inf],\n",
       "       [ 1., inf, inf, inf,  0.]])"
      ]
     },
     "execution_count": 42,
     "metadata": {},
     "output_type": "execute_result"
    }
   ],
   "source": [
    "graph.get_distance_matrix()"
   ]
  },
  {
   "cell_type": "code",
   "execution_count": 44,
   "metadata": {},
   "outputs": [
    {
     "data": {
      "text/plain": [
       "array([[[0.5       , 0.        , 0.        , 0.        , 0.5       ],\n",
       "        [0.        , 0.33333333, 0.40824829, 0.40824829, 0.        ],\n",
       "        [0.        , 0.40824829, 0.5       , 0.        , 0.        ],\n",
       "        [0.        , 0.40824829, 0.        , 0.5       , 0.        ],\n",
       "        [0.5       , 0.        , 0.        , 0.        , 0.5       ]]])"
      ]
     },
     "execution_count": 44,
     "metadata": {},
     "output_type": "execute_result"
    }
   ],
   "source": [
    "graph.label_mapping(strategy='uniform')"
   ]
  },
  {
   "cell_type": "code",
   "execution_count": 45,
   "metadata": {},
   "outputs": [
    {
     "data": {
      "text/plain": [
       "array([[[0.5       , 0.        , 0.        , 0.        , 0.        ],\n",
       "        [0.        , 0.33333333, 0.        , 0.        , 0.        ],\n",
       "        [0.        , 0.        , 0.5       , 0.        , 0.        ],\n",
       "        [0.        , 0.        , 0.        , 0.5       , 0.        ],\n",
       "        [0.        , 0.        , 0.        , 0.        , 0.5       ]],\n",
       "\n",
       "       [[0.        , 0.        , 0.        , 0.        , 0.5       ],\n",
       "        [0.        , 0.        , 0.40824829, 0.40824829, 0.        ],\n",
       "        [0.        , 0.40824829, 0.        , 0.        , 0.        ],\n",
       "        [0.        , 0.40824829, 0.        , 0.        , 0.        ],\n",
       "        [0.5       , 0.        , 0.        , 0.        , 0.        ]]])"
      ]
     },
     "execution_count": 45,
     "metadata": {},
     "output_type": "execute_result"
    }
   ],
   "source": [
    "graph.label_mapping(strategy='distance')"
   ]
  },
  {
   "cell_type": "code",
   "execution_count": null,
   "metadata": {},
   "outputs": [],
   "source": []
  },
  {
   "cell_type": "code",
   "execution_count": null,
   "metadata": {},
   "outputs": [],
   "source": []
  },
  {
   "cell_type": "code",
   "execution_count": null,
   "metadata": {},
   "outputs": [],
   "source": []
  },
  {
   "cell_type": "code",
   "execution_count": null,
   "metadata": {},
   "outputs": [],
   "source": []
  },
  {
   "cell_type": "code",
   "execution_count": null,
   "metadata": {},
   "outputs": [],
   "source": []
  }
 ],
 "metadata": {
  "kernelspec": {
   "display_name": "sc_env",
   "language": "python",
   "name": "python3"
  },
  "language_info": {
   "codemirror_mode": {
    "name": "ipython",
    "version": 3
   },
   "file_extension": ".py",
   "mimetype": "text/x-python",
   "name": "python",
   "nbconvert_exporter": "python",
   "pygments_lexer": "ipython3",
   "version": "3.11.1"
  }
 },
 "nbformat": 4,
 "nbformat_minor": 2
}
