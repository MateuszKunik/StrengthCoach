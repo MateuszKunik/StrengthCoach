{
 "cells": [
  {
   "cell_type": "code",
   "execution_count": 1,
   "metadata": {},
   "outputs": [],
   "source": [
    "import numpy as np\n",
    "from mediapipe import solutions\n",
    "\n",
    "from custom_pose_landmarks import CustomPoseLandmark"
   ]
  },
  {
   "cell_type": "code",
   "execution_count": 89,
   "metadata": {},
   "outputs": [],
   "source": [
    "class Graph():\n",
    "    \"\"\"\n",
    "    \n",
    "    \"\"\"\n",
    "    def __init__(self, layout, center=0, strategy='uniform', max_distance=1, dilation=1):\n",
    "        # Initialize parameters\n",
    "        self.strategy = strategy\n",
    "        self.max_distance = max_distance\n",
    "        self.dilation = dilation\n",
    "        \n",
    "        # Initialize graph edges, graph center and adjacency matrix\n",
    "        self.edges = self.get_edges(layout)\n",
    "        self.center = self.get_center(layout, center)\n",
    "\n",
    "        self.adjacency = self.get_adjacency()\n",
    "\n",
    "\n",
    "    def get_edges(self, layout):\n",
    "        \"\"\"\n",
    "        get edges of the graph\n",
    "        \"\"\"\n",
    "        # Extract the number of nodes in the layout\n",
    "        self.num_node = layout.num_elements()\n",
    "        # Create a self-loop for each node\n",
    "        self_link = [(i, i) for i in range(self.num_node)]\n",
    "        # Extract connections from custome layout\n",
    "        neighbor_link = list(layout.get_connections())\n",
    "\n",
    "        # Prepare the edges and center of the graph\n",
    "        edges = self_link + neighbor_link\n",
    "\n",
    "        return edges\n",
    "\n",
    "\n",
    "    def get_center(self, layout, center):\n",
    "        \"\"\" \n",
    "        get center of the graph\n",
    "        \"\"\"\n",
    "        if isinstance(center, int):\n",
    "            return center\n",
    "        elif isinstance(center, str):\n",
    "            return layout.get_value(center)\n",
    "        \n",
    "\n",
    "    def get_adjacency(self):\n",
    "        \"\"\" \n",
    "        get adjacency matrix\n",
    "        \"\"\"\n",
    "        # Prepare adjacency matrix storage based on the number of nodes in the graph\n",
    "        adjacency_matrix = np.zeros((self.num_node, self.num_node))\n",
    "\n",
    "        # Fill the matrix based on the list of edges\n",
    "        for i, j in self.edges:\n",
    "            adjacency_matrix[i, j] = 1\n",
    "            adjacency_matrix[j, i] = 1\n",
    "\n",
    "        return adjacency_matrix\n",
    "\n",
    "    \n",
    "    def get_distance(self):\n",
    "        \"\"\" \n",
    "        get distance matrix\n",
    "        \"\"\"\n",
    "        # Prepare a hop distance matrix storage\n",
    "        distance_matrix = np.zeros_like(self.adjacency) + np.inf\n",
    "\n",
    "        # Calculate the consecutive powers of the adjacency matrix\n",
    "        transfer_matrix = [\n",
    "            np.linalg.matrix_power(self.adjacency, d) for d in range(self.max_distance + 1)\n",
    "        ]\n",
    "\n",
    "        arrive_matrix = (np.stack(transfer_matrix) > 0)\n",
    "\n",
    "        # Calculate hop distances for each node\n",
    "        for d in range(self.max_distance, -1, -1):\n",
    "            distance_matrix[arrive_matrix[d]] = d\n",
    "\n",
    "        return distance_matrix\n",
    "\n",
    "\n",
    "    def normalize(self, matrix):\n",
    "        \"\"\" \n",
    "        normalize undirected graph, symmetry matrix\n",
    "        \"\"\"\n",
    "        # Calculate degree (number of links) for each node\n",
    "        degree_vector = np.sum(matrix, 0)\n",
    "\n",
    "        # Prepare a diagonal matrix storage\n",
    "        diagonal = np.zeros((self.num_node, self.num_node))\n",
    "        \n",
    "        # Calculate diagonal matrix\n",
    "        for i in range(self.num_node):\n",
    "            if degree_vector[i] > 0:\n",
    "                diagonal[i, i] = degree_vector[i] ** (-0.5)\n",
    "    \n",
    "        normalized_matrix = np.dot(np.dot(diagonal, matrix), diagonal)\n",
    "\n",
    "        return normalized_matrix\n",
    "    \n",
    "\n",
    "    def get_labels(self):\n",
    "        \"\"\" \n",
    "        label mapping for neighbor nodes based on strategy\n",
    "        \"\"\"\n",
    "        # Create sequence of valid hop distances\n",
    "        valid_hop = range(0, self.max_distance + 1, self.dilation)\n",
    "\n",
    "        # Create a copy of the adjacency matrix to extend it\n",
    "        adjacency_copy = np.copy(self.adjacency)\n",
    "        # Get distance matrix for node labeling\n",
    "        distance = self.get_distance()\n",
    "\n",
    "        # Extend adjacency matrix based on hop distances\n",
    "        for hop in valid_hop:\n",
    "            adjacency_copy[distance == hop] = 1\n",
    "\n",
    "        # Normalize adjacency matrix before implementing the strategy\n",
    "        normalized = self.normalize(adjacency_copy)\n",
    "\n",
    "        # Labeling process\n",
    "        if self.strategy == 'uniform':\n",
    "            labels = np.expand_dims(normalized, axis=0)\n",
    "        \n",
    "        elif self.strategy == 'distance':\n",
    "            # Create node labels for every hop distance\n",
    "            labels = np.zeros((len(valid_hop), self.num_node, self.num_node))\n",
    "\n",
    "            for i, hop in enumerate(valid_hop):\n",
    "                labels[i][distance == hop] = normalized[distance == hop]\n",
    "\n",
    "        elif self.strategy == 'spatial':\n",
    "            #\n",
    "            labels = []\n",
    "\n",
    "            for hop in valid_hop:\n",
    "                root = np.zeros_like(self.adjacency)\n",
    "                close = np.zeros_like(self.adjacency)\n",
    "                further = np.zeros_like(self.adjacency)\n",
    "\n",
    "                for i in range(self.num_node):\n",
    "                    for j in range(self.num_node):\n",
    "                        if distance[j, i] == hop:\n",
    "                            #\n",
    "                            if distance[j, self.center] == distance[i, self.center]:\n",
    "                                root[j, i] = normalized[j, i]\n",
    "                            \n",
    "                            #\n",
    "                            elif distance[j, self.center] > distance[i, self.center]:\n",
    "                                close[j, i] = normalized[j, i]\n",
    "\n",
    "                            #\n",
    "                            else:\n",
    "                                further[j, i] = normalized[j, i]\n",
    "\n",
    "                if hop == 0:\n",
    "                    labels.append(root)\n",
    "                else:\n",
    "                    labels.append(root + close)\n",
    "                    labels.append(further)\n",
    "            \n",
    "            labels = np.stack(labels)\n",
    "                                \n",
    "        else:\n",
    "            raise ValueError('strategy error')\n",
    "        \n",
    "        return labels"
   ]
  },
  {
   "cell_type": "code",
   "execution_count": 90,
   "metadata": {},
   "outputs": [],
   "source": [
    "# Selected values of pose landmarks corresponding to PoseLandmark class from MediaPipe library\n",
    "values = [0, 11, 12, 13]\n",
    "\n",
    "# Custom pose landmark names and their connections\n",
    "landmarks = {\n",
    "    'THORAX': ['NOSE']}\n",
    "\n",
    "# MediaPipe solutions\n",
    "mp_drawing = solutions.drawing_utils\n",
    "mp_pose = solutions.pose\n",
    "\n",
    "custom_pose = CustomPoseLandmark(mp_pose, values, landmarks)\n",
    "# conv = Video2DataFrame(mp_pose, mp_drawing, custom_pose)"
   ]
  },
  {
   "cell_type": "code",
   "execution_count": 91,
   "metadata": {},
   "outputs": [
    {
     "data": {
      "text/plain": [
       "{(1, 2), (1, 3), (4, 0)}"
      ]
     },
     "execution_count": 91,
     "metadata": {},
     "output_type": "execute_result"
    }
   ],
   "source": [
    "custom_pose.get_connections()"
   ]
  },
  {
   "cell_type": "code",
   "execution_count": 92,
   "metadata": {},
   "outputs": [],
   "source": [
    "graph = Graph(\n",
    "    layout=custom_pose,\n",
    "    center='THORAX', \n",
    "    strategy='spatial',\n",
    "    max_distance=1,\n",
    "    dilation=1\n",
    ")"
   ]
  },
  {
   "cell_type": "code",
   "execution_count": 98,
   "metadata": {},
   "outputs": [
    {
     "data": {
      "text/plain": [
       "[(0, 0), (1, 1), (2, 2), (3, 3), (4, 4), (4, 0), (1, 2), (1, 3)]"
      ]
     },
     "execution_count": 98,
     "metadata": {},
     "output_type": "execute_result"
    }
   ],
   "source": [
    "graph.edges"
   ]
  },
  {
   "cell_type": "code",
   "execution_count": 99,
   "metadata": {},
   "outputs": [
    {
     "data": {
      "text/plain": [
       "4"
      ]
     },
     "execution_count": 99,
     "metadata": {},
     "output_type": "execute_result"
    }
   ],
   "source": [
    "graph.center"
   ]
  },
  {
   "cell_type": "code",
   "execution_count": 93,
   "metadata": {},
   "outputs": [
    {
     "data": {
      "text/plain": [
       "array([[1., 0., 0., 0., 1.],\n",
       "       [0., 1., 1., 1., 0.],\n",
       "       [0., 1., 1., 0., 0.],\n",
       "       [0., 1., 0., 1., 0.],\n",
       "       [1., 0., 0., 0., 1.]])"
      ]
     },
     "execution_count": 93,
     "metadata": {},
     "output_type": "execute_result"
    }
   ],
   "source": [
    "graph.adjacency"
   ]
  },
  {
   "cell_type": "code",
   "execution_count": 94,
   "metadata": {},
   "outputs": [
    {
     "data": {
      "text/plain": [
       "array([[1., 0., 0., 0., 1.],\n",
       "       [0., 1., 1., 1., 0.],\n",
       "       [0., 1., 1., 0., 0.],\n",
       "       [0., 1., 0., 1., 0.],\n",
       "       [1., 0., 0., 0., 1.]])"
      ]
     },
     "execution_count": 94,
     "metadata": {},
     "output_type": "execute_result"
    }
   ],
   "source": [
    "graph.get_adjacency()"
   ]
  },
  {
   "cell_type": "code",
   "execution_count": 95,
   "metadata": {},
   "outputs": [
    {
     "data": {
      "text/plain": [
       "array([[ 0., inf, inf, inf,  1.],\n",
       "       [inf,  0.,  1.,  1., inf],\n",
       "       [inf,  1.,  0., inf, inf],\n",
       "       [inf,  1., inf,  0., inf],\n",
       "       [ 1., inf, inf, inf,  0.]])"
      ]
     },
     "execution_count": 95,
     "metadata": {},
     "output_type": "execute_result"
    }
   ],
   "source": [
    "graph.get_distance()"
   ]
  },
  {
   "cell_type": "code",
   "execution_count": 97,
   "metadata": {},
   "outputs": [
    {
     "data": {
      "text/plain": [
       "array([[[0.5       , 0.        , 0.        , 0.        , 0.        ],\n",
       "        [0.        , 0.33333333, 0.        , 0.        , 0.        ],\n",
       "        [0.        , 0.        , 0.5       , 0.        , 0.        ],\n",
       "        [0.        , 0.        , 0.        , 0.5       , 0.        ],\n",
       "        [0.        , 0.        , 0.        , 0.        , 0.5       ]],\n",
       "\n",
       "       [[0.        , 0.        , 0.        , 0.        , 0.5       ],\n",
       "        [0.        , 0.        , 0.40824829, 0.40824829, 0.        ],\n",
       "        [0.        , 0.40824829, 0.        , 0.        , 0.        ],\n",
       "        [0.        , 0.40824829, 0.        , 0.        , 0.        ],\n",
       "        [0.        , 0.        , 0.        , 0.        , 0.        ]],\n",
       "\n",
       "       [[0.        , 0.        , 0.        , 0.        , 0.        ],\n",
       "        [0.        , 0.        , 0.        , 0.        , 0.        ],\n",
       "        [0.        , 0.        , 0.        , 0.        , 0.        ],\n",
       "        [0.        , 0.        , 0.        , 0.        , 0.        ],\n",
       "        [0.5       , 0.        , 0.        , 0.        , 0.        ]]])"
      ]
     },
     "execution_count": 97,
     "metadata": {},
     "output_type": "execute_result"
    }
   ],
   "source": [
    "graph.get_labels()"
   ]
  },
  {
   "cell_type": "code",
   "execution_count": null,
   "metadata": {},
   "outputs": [],
   "source": []
  },
  {
   "cell_type": "code",
   "execution_count": null,
   "metadata": {},
   "outputs": [],
   "source": []
  },
  {
   "cell_type": "code",
   "execution_count": null,
   "metadata": {},
   "outputs": [],
   "source": []
  },
  {
   "cell_type": "code",
   "execution_count": null,
   "metadata": {},
   "outputs": [],
   "source": []
  }
 ],
 "metadata": {
  "kernelspec": {
   "display_name": "sc_env",
   "language": "python",
   "name": "python3"
  },
  "language_info": {
   "codemirror_mode": {
    "name": "ipython",
    "version": 3
   },
   "file_extension": ".py",
   "mimetype": "text/x-python",
   "name": "python",
   "nbconvert_exporter": "python",
   "pygments_lexer": "ipython3",
   "version": "3.11.1"
  }
 },
 "nbformat": 4,
 "nbformat_minor": 2
}
