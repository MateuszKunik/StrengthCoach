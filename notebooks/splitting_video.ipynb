{
 "cells": [
  {
   "cell_type": "code",
   "execution_count": 1,
   "metadata": {},
   "outputs": [],
   "source": [
    "import os\n",
    "import shutil\n",
    "import numpy as np\n",
    "\n",
    "from moviepy.editor import VideoFileClip"
   ]
  },
  {
   "cell_type": "code",
   "execution_count": 2,
   "metadata": {},
   "outputs": [],
   "source": [
    "def split_video(folder_path, destination_path, time_points):\n",
    "    # Create file name\n",
    "    file_name = os.path.basename(folder_path)\n",
    "    extension = '.mp4'\n",
    "\n",
    "    # Create file path\n",
    "    file_path = os.path.join(folder_path, file_name + extension)\n",
    "\n",
    "    # Initialize instance\n",
    "    video = VideoFileClip(file_path)\n",
    "\n",
    "    # Check FPS\n",
    "    if video.fps is None:\n",
    "        fps = 30\n",
    "    else:\n",
    "        fps = video.fps\n",
    "\n",
    "\n",
    "    # Generate new videos\n",
    "    for i in range(len(time_points) + 1):\n",
    "        # Check something\n",
    "        if i == 0:\n",
    "            clip = video.subclip(\n",
    "                t_start = 0.0,\n",
    "                t_end = time_points[i])\n",
    "            \n",
    "        elif i < len(time_points):\n",
    "            clip = video.subclip(\n",
    "                t_start = time_points[i - 1],\n",
    "                t_end = time_points[i])\n",
    "               \n",
    "        else:\n",
    "            clip = video.subclip(\n",
    "                t_start = time_points[i - 1])\n",
    "        \n",
    "        # Check something\n",
    "        if i < 9:\n",
    "            repetition = f'0{i + 1}'\n",
    "        else:\n",
    "            repetition = f'{i + 1}'\n",
    "\n",
    "        name = \"_\".join(file_name.split('_')[:3] + [repetition] + file_name.split('_')[3:]) + extension\n",
    "        destination = os.path.join(destination_path, name)\n",
    "\n",
    "        clip.write_videofile(destination, codec=\"libx264\", fps=fps)\n",
    "\n",
    "\n",
    "    video.close()"
   ]
  },
  {
   "cell_type": "code",
   "execution_count": 48,
   "metadata": {},
   "outputs": [
    {
     "name": "stderr",
     "output_type": "stream",
     "text": [
      "chunk: 100%|██████████| 1/1 [1:05:56<00:00, 3956.68s/it, now=None]"
     ]
    },
    {
     "name": "stdout",
     "output_type": "stream",
     "text": [
      "Moviepy - Building video E:\\SC\\not_ready\\000\\012_14_09_01_130_1_L.mp4.\n",
      "MoviePy - Writing audio in 012_14_09_01_130_1_LTEMP_MPY_wvf_snd.mp3\n"
     ]
    },
    {
     "name": "stderr",
     "output_type": "stream",
     "text": [
      "chunk: 100%|██████████| 1/1 [1:05:57<00:00, 3957.02s/it, now=None]"
     ]
    },
    {
     "name": "stdout",
     "output_type": "stream",
     "text": [
      "MoviePy - Done.\n",
      "Moviepy - Writing video E:\\SC\\not_ready\\000\\012_14_09_01_130_1_L.mp4\n",
      "\n"
     ]
    },
    {
     "name": "stderr",
     "output_type": "stream",
     "text": [
      "chunk: 100%|██████████| 1/1 [1:06:02<00:00, 3962.24s/it, now=None]"
     ]
    },
    {
     "name": "stdout",
     "output_type": "stream",
     "text": [
      "Moviepy - Done !\n",
      "Moviepy - video ready E:\\SC\\not_ready\\000\\012_14_09_01_130_1_L.mp4\n",
      "Moviepy - Building video E:\\SC\\not_ready\\000\\012_14_09_02_130_1_L.mp4.\n",
      "MoviePy - Writing audio in 012_14_09_02_130_1_LTEMP_MPY_wvf_snd.mp3\n"
     ]
    },
    {
     "name": "stderr",
     "output_type": "stream",
     "text": [
      "chunk: 100%|██████████| 1/1 [1:06:02<00:00, 3962.59s/it, now=None]"
     ]
    },
    {
     "name": "stdout",
     "output_type": "stream",
     "text": [
      "MoviePy - Done.\n",
      "Moviepy - Writing video E:\\SC\\not_ready\\000\\012_14_09_02_130_1_L.mp4\n",
      "\n"
     ]
    },
    {
     "name": "stderr",
     "output_type": "stream",
     "text": [
      "chunk: 100%|██████████| 1/1 [1:06:08<00:00, 3968.12s/it, now=None]"
     ]
    },
    {
     "name": "stdout",
     "output_type": "stream",
     "text": [
      "Moviepy - Done !\n",
      "Moviepy - video ready E:\\SC\\not_ready\\000\\012_14_09_02_130_1_L.mp4\n",
      "Moviepy - Building video E:\\SC\\not_ready\\000\\012_14_09_03_130_1_L.mp4.\n",
      "MoviePy - Writing audio in 012_14_09_03_130_1_LTEMP_MPY_wvf_snd.mp3\n"
     ]
    },
    {
     "name": "stderr",
     "output_type": "stream",
     "text": [
      "chunk: 100%|██████████| 1/1 [1:06:08<00:00, 3968.46s/it, now=None]"
     ]
    },
    {
     "name": "stdout",
     "output_type": "stream",
     "text": [
      "MoviePy - Done.\n",
      "Moviepy - Writing video E:\\SC\\not_ready\\000\\012_14_09_03_130_1_L.mp4\n",
      "\n"
     ]
    },
    {
     "name": "stderr",
     "output_type": "stream",
     "text": [
      "chunk: 100%|██████████| 1/1 [1:06:12<00:00, 3972.03s/it, now=None]"
     ]
    },
    {
     "name": "stdout",
     "output_type": "stream",
     "text": [
      "Moviepy - Done !\n",
      "Moviepy - video ready E:\\SC\\not_ready\\000\\012_14_09_03_130_1_L.mp4\n",
      "Moviepy - Building video E:\\SC\\not_ready\\000\\012_14_09_04_130_1_L.mp4.\n",
      "MoviePy - Writing audio in 012_14_09_04_130_1_LTEMP_MPY_wvf_snd.mp3\n"
     ]
    },
    {
     "name": "stderr",
     "output_type": "stream",
     "text": [
      "chunk: 100%|██████████| 1/1 [1:06:12<00:00, 3972.40s/it, now=None]"
     ]
    },
    {
     "name": "stdout",
     "output_type": "stream",
     "text": [
      "MoviePy - Done.\n",
      "Moviepy - Writing video E:\\SC\\not_ready\\000\\012_14_09_04_130_1_L.mp4\n",
      "\n"
     ]
    },
    {
     "name": "stderr",
     "output_type": "stream",
     "text": [
      "chunk: 100%|██████████| 1/1 [1:06:15<00:00, 3975.72s/it, now=None]"
     ]
    },
    {
     "name": "stdout",
     "output_type": "stream",
     "text": [
      "Moviepy - Done !\n",
      "Moviepy - video ready E:\\SC\\not_ready\\000\\012_14_09_04_130_1_L.mp4\n",
      "Moviepy - Building video E:\\SC\\not_ready\\000\\012_14_09_05_130_1_L.mp4.\n",
      "MoviePy - Writing audio in 012_14_09_05_130_1_LTEMP_MPY_wvf_snd.mp3\n"
     ]
    },
    {
     "name": "stderr",
     "output_type": "stream",
     "text": [
      "chunk: 100%|██████████| 1/1 [1:06:16<00:00, 3976.11s/it, now=None]"
     ]
    },
    {
     "name": "stdout",
     "output_type": "stream",
     "text": [
      "MoviePy - Done.\n",
      "Moviepy - Writing video E:\\SC\\not_ready\\000\\012_14_09_05_130_1_L.mp4\n",
      "\n"
     ]
    },
    {
     "name": "stderr",
     "output_type": "stream",
     "text": [
      "chunk: 100%|██████████| 1/1 [1:06:20<00:00, 3980.06s/it, now=None]"
     ]
    },
    {
     "name": "stdout",
     "output_type": "stream",
     "text": [
      "Moviepy - Done !\n",
      "Moviepy - video ready E:\\SC\\not_ready\\000\\012_14_09_05_130_1_L.mp4\n",
      "Moviepy - Building video E:\\SC\\not_ready\\000\\012_14_09_06_130_1_L.mp4.\n",
      "MoviePy - Writing audio in 012_14_09_06_130_1_LTEMP_MPY_wvf_snd.mp3\n"
     ]
    },
    {
     "name": "stderr",
     "output_type": "stream",
     "text": [
      "chunk: 100%|██████████| 1/1 [1:06:20<00:00, 3980.39s/it, now=None]"
     ]
    },
    {
     "name": "stdout",
     "output_type": "stream",
     "text": [
      "MoviePy - Done.\n",
      "Moviepy - Writing video E:\\SC\\not_ready\\000\\012_14_09_06_130_1_L.mp4\n",
      "\n"
     ]
    },
    {
     "name": "stderr",
     "output_type": "stream",
     "text": [
      "chunk: 100%|██████████| 1/1 [1:06:25<00:00, 3985.02s/it, now=None]"
     ]
    },
    {
     "name": "stdout",
     "output_type": "stream",
     "text": [
      "Moviepy - Done !\n",
      "Moviepy - video ready E:\\SC\\not_ready\\000\\012_14_09_06_130_1_L.mp4\n",
      "Moviepy - Building video E:\\SC\\not_ready\\000\\012_14_09_07_130_1_L.mp4.\n",
      "MoviePy - Writing audio in 012_14_09_07_130_1_LTEMP_MPY_wvf_snd.mp3\n"
     ]
    },
    {
     "name": "stderr",
     "output_type": "stream",
     "text": [
      "chunk: 100%|██████████| 1/1 [1:06:25<00:00, 3985.34s/it, now=None]"
     ]
    },
    {
     "name": "stdout",
     "output_type": "stream",
     "text": [
      "MoviePy - Done.\n",
      "Moviepy - Writing video E:\\SC\\not_ready\\000\\012_14_09_07_130_1_L.mp4\n",
      "\n"
     ]
    },
    {
     "name": "stderr",
     "output_type": "stream",
     "text": [
      "chunk: 100%|██████████| 1/1 [1:06:30<00:00, 3990.20s/it, now=None]"
     ]
    },
    {
     "name": "stdout",
     "output_type": "stream",
     "text": [
      "Moviepy - Done !\n",
      "Moviepy - video ready E:\\SC\\not_ready\\000\\012_14_09_07_130_1_L.mp4\n",
      "Moviepy - Building video E:\\SC\\not_ready\\000\\012_14_09_08_130_1_L.mp4.\n",
      "MoviePy - Writing audio in 012_14_09_08_130_1_LTEMP_MPY_wvf_snd.mp3\n"
     ]
    },
    {
     "name": "stderr",
     "output_type": "stream",
     "text": [
      "chunk: 100%|██████████| 1/1 [1:06:30<00:00, 3990.54s/it, now=None]"
     ]
    },
    {
     "name": "stdout",
     "output_type": "stream",
     "text": [
      "MoviePy - Done.\n",
      "Moviepy - Writing video E:\\SC\\not_ready\\000\\012_14_09_08_130_1_L.mp4\n",
      "\n"
     ]
    },
    {
     "name": "stderr",
     "output_type": "stream",
     "text": [
      "chunk: 100%|██████████| 1/1 [1:06:36<00:00, 3996.80s/it, now=None]"
     ]
    },
    {
     "name": "stdout",
     "output_type": "stream",
     "text": [
      "Moviepy - Done !\n",
      "Moviepy - video ready E:\\SC\\not_ready\\000\\012_14_09_08_130_1_L.mp4\n",
      "Moviepy - Building video E:\\SC\\not_ready\\000\\012_14_09_09_130_1_L.mp4.\n",
      "MoviePy - Writing audio in 012_14_09_09_130_1_LTEMP_MPY_wvf_snd.mp3\n"
     ]
    },
    {
     "name": "stderr",
     "output_type": "stream",
     "text": [
      "chunk: 100%|██████████| 1/1 [1:06:37<00:00, 3997.16s/it, now=None]"
     ]
    },
    {
     "name": "stdout",
     "output_type": "stream",
     "text": [
      "MoviePy - Done.\n",
      "Moviepy - Writing video E:\\SC\\not_ready\\000\\012_14_09_09_130_1_L.mp4\n",
      "\n"
     ]
    },
    {
     "name": "stderr",
     "output_type": "stream",
     "text": [
      "chunk: 100%|██████████| 1/1 [1:06:41<00:00, 4001.90s/it, now=None]"
     ]
    },
    {
     "name": "stdout",
     "output_type": "stream",
     "text": [
      "Moviepy - Done !\n",
      "Moviepy - video ready E:\\SC\\not_ready\\000\\012_14_09_09_130_1_L.mp4\n"
     ]
    }
   ],
   "source": [
    "folder_path = r'E:\\SC\\not_ready\\012_14_09_130_1_L'\n",
    "destination_path = r'E:\\SC\\not_ready\\000'\n",
    "\n",
    "time_points = [7.8, 13.1, 16.2, 19, 22.3, 26.4, 30.3, 35]\n",
    "time_points = (np.array(time_points) - 2.95).tolist()\n",
    "\n",
    "split_video(folder_path, destination_path, time_points)"
   ]
  },
  {
   "cell_type": "code",
   "execution_count": null,
   "metadata": {},
   "outputs": [],
   "source": []
  },
  {
   "cell_type": "code",
   "execution_count": null,
   "metadata": {},
   "outputs": [],
   "source": []
  },
  {
   "cell_type": "code",
   "execution_count": null,
   "metadata": {},
   "outputs": [],
   "source": []
  },
  {
   "cell_type": "code",
   "execution_count": null,
   "metadata": {},
   "outputs": [],
   "source": []
  },
  {
   "cell_type": "code",
   "execution_count": null,
   "metadata": {},
   "outputs": [],
   "source": []
  },
  {
   "cell_type": "code",
   "execution_count": null,
   "metadata": {},
   "outputs": [],
   "source": []
  },
  {
   "cell_type": "code",
   "execution_count": null,
   "metadata": {},
   "outputs": [],
   "source": []
  },
  {
   "cell_type": "code",
   "execution_count": 68,
   "metadata": {},
   "outputs": [],
   "source": [
    "# change of names\n",
    "\n",
    "path = r'E:\\SC\\ready'\n",
    "\n",
    "for filename in os.listdir(path):\n",
    "    full_path = os.path.join(path, filename)\n",
    "\n",
    "    new_filename = '_'.join(filename.split('_')[:3] + ['01'] + filename.split('_')[3:])\n",
    "    new_full_path = os.path.join(path, new_filename)\n",
    "\n",
    "    os.rename(full_path, new_full_path)"
   ]
  }
 ],
 "metadata": {
  "kernelspec": {
   "display_name": "venv",
   "language": "python",
   "name": "python3"
  },
  "language_info": {
   "codemirror_mode": {
    "name": "ipython",
    "version": 3
   },
   "file_extension": ".py",
   "mimetype": "text/x-python",
   "name": "python",
   "nbconvert_exporter": "python",
   "pygments_lexer": "ipython3",
   "version": "3.11.1"
  }
 },
 "nbformat": 4,
 "nbformat_minor": 2
}
