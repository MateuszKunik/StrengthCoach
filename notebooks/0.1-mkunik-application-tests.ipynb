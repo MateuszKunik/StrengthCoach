{
 "cells": [
  {
   "cell_type": "code",
   "execution_count": 3,
   "metadata": {},
   "outputs": [],
   "source": [
    "import mediapipe as mp\n",
    "import numpy as np\n",
    "import pandas as pd\n",
    "import cv2\n",
    "from mediapipe import solutions\n",
    "from mediapipe.framework.formats import landmark_pb2\n",
    "\n",
    "from custom_pose_landmarks import CustomPoseLandmark"
   ]
  },
  {
   "cell_type": "code",
   "execution_count": 4,
   "metadata": {},
   "outputs": [],
   "source": [
    "mp_pose = solutions.pose\n",
    "\n",
    "custom = CustomPoseLandmark(mp_pose)"
   ]
  },
  {
   "cell_type": "code",
   "execution_count": 26,
   "metadata": {},
   "outputs": [],
   "source": [
    "def prepare_dataframe():\n",
    "    axes = ['X', 'Y', 'Z']\n",
    "    names = custom.get_landmarks().values()\n",
    "    column_names = [('_'.join([name, axis])).lower() for name in names for axis in axes]\n",
    "\n",
    "    return pd.DataFrame(\n",
    "        columns = ['timestamp'] + column_names,\n",
    "        dtype = float\n",
    "    )"
   ]
  },
  {
   "cell_type": "code",
   "execution_count": 2,
   "metadata": {},
   "outputs": [],
   "source": [
    "mp_pose = solutions.pose\n",
    "\n",
    "def landmark2array(landmark):\n",
    "    return np.array(\n",
    "        [\n",
    "            landmark.x,\n",
    "            landmark.y,\n",
    "            landmark.z,\n",
    "            landmark.visibility\n",
    "        ]\n",
    "    )\n",
    "\n",
    "def array2landmark(array):\n",
    "    return landmark_pb2.NormalizedLandmark(\n",
    "        x=array[0],\n",
    "        y=array[1],\n",
    "        z=array[2],\n",
    "        visibility=array[3]\n",
    "    )\n",
    "\n",
    "def get_custom_landmarks(indexes, landmarks):\n",
    "    \"\"\"\n",
    "    \n",
    "    \"\"\"\n",
    "    # Create customize landmarks list\n",
    "    custom_landmarks = landmark_pb2.NormalizedLandmarkList()\n",
    "\n",
    "    # Extend list by chosen landmarks\n",
    "    custom_landmarks.landmark.extend(\n",
    "        [landmarks.landmark[index] for index in indexes])\n",
    "\n",
    "    # Calculate the coordinates of neck landmark\n",
    "    left_shoulder = landmark2array(\n",
    "        landmarks.landmark[mp_pose.PoseLandmark.LEFT_SHOULDER])\n",
    "    right_shoulder = landmark2array(\n",
    "        landmarks.landmark[mp_pose.PoseLandmark.RIGHT_SHOULDER])\n",
    "    neck = np.mean([left_shoulder, right_shoulder], axis=0)\n",
    "    neck_landmark = array2landmark(neck)\n",
    "\n",
    "    # Add neck landmark to custom list\n",
    "    custom_landmarks.landmark.add().CopyFrom(neck_landmark)\n",
    "\n",
    "    return custom_landmarks"
   ]
  },
  {
   "cell_type": "code",
   "execution_count": 13,
   "metadata": {},
   "outputs": [],
   "source": [
    "# [name.lower() + '_' + axis for name in custom.get_landmarks().values() for axis in ('x', 'y', 'z')]"
   ]
  },
  {
   "cell_type": "code",
   "execution_count": 46,
   "metadata": {},
   "outputs": [],
   "source": [
    "# source posibilities: path, int\n",
    "# source = r'C:/Users/nemet/Desktop/XPC_2023/MVI_7011.mp4'\n",
    "source = r'C:/Users/nemet/Desktop/XPC_2023/test8.mp4'\n",
    "# source = 0\n",
    "\n",
    "# background bool: Flase, True\n",
    "background = True\n",
    "\n",
    "# output posibilities: 'landmarks', 'mask', None\n",
    "output = 'landmarks'"
   ]
  },
  {
   "cell_type": "code",
   "execution_count": 47,
   "metadata": {},
   "outputs": [
    {
     "ename": "IndexError",
     "evalue": "list index out of range",
     "output_type": "error",
     "traceback": [
      "\u001b[1;31m---------------------------------------------------------------------------\u001b[0m",
      "\u001b[1;31mIndexError\u001b[0m                                Traceback (most recent call last)",
      "Cell \u001b[1;32mIn[47], line 48\u001b[0m\n\u001b[0;32m     45\u001b[0m time \u001b[39m+\u001b[39m\u001b[39m=\u001b[39m \u001b[39m1\u001b[39m\n\u001b[0;32m     47\u001b[0m \u001b[39m# Get custom landmarks and create new connection\u001b[39;00m\n\u001b[1;32m---> 48\u001b[0m custom_landmarks \u001b[39m=\u001b[39m get_custom_landmarks(chosen_indexes, default_landmarks)\n\u001b[0;32m     49\u001b[0m \u001b[39m#custom_connections.add((0, len(custom_landmarks.landmark) - 1))\u001b[39;00m\n\u001b[0;32m     50\u001b[0m \n\u001b[0;32m     51\u001b[0m \u001b[39m# Prepare a single record storage\u001b[39;00m\n\u001b[0;32m     52\u001b[0m record \u001b[39m=\u001b[39m np\u001b[39m.\u001b[39marray([time])\n",
      "Cell \u001b[1;32mIn[18], line 35\u001b[0m, in \u001b[0;36mget_custom_landmarks\u001b[1;34m(indexes, landmarks)\u001b[0m\n\u001b[0;32m     31\u001b[0m custom_landmarks \u001b[39m=\u001b[39m landmark_pb2\u001b[39m.\u001b[39mNormalizedLandmarkList()\n\u001b[0;32m     33\u001b[0m \u001b[39m# Extend list by chosen landmarks\u001b[39;00m\n\u001b[0;32m     34\u001b[0m custom_landmarks\u001b[39m.\u001b[39mlandmark\u001b[39m.\u001b[39mextend(\n\u001b[1;32m---> 35\u001b[0m     [landmarks\u001b[39m.\u001b[39;49mlandmark[index] \u001b[39mfor\u001b[39;49;00m index \u001b[39min\u001b[39;49;00m indexes])\n\u001b[0;32m     37\u001b[0m \u001b[39m# Calculate the coordinates of neck landmark\u001b[39;00m\n\u001b[0;32m     38\u001b[0m left_shoulder \u001b[39m=\u001b[39m landmark2array(\n\u001b[0;32m     39\u001b[0m     landmarks\u001b[39m.\u001b[39mlandmark[mp_pose\u001b[39m.\u001b[39mPoseLandmark\u001b[39m.\u001b[39mLEFT_SHOULDER])\n",
      "Cell \u001b[1;32mIn[18], line 35\u001b[0m, in \u001b[0;36m<listcomp>\u001b[1;34m(.0)\u001b[0m\n\u001b[0;32m     31\u001b[0m custom_landmarks \u001b[39m=\u001b[39m landmark_pb2\u001b[39m.\u001b[39mNormalizedLandmarkList()\n\u001b[0;32m     33\u001b[0m \u001b[39m# Extend list by chosen landmarks\u001b[39;00m\n\u001b[0;32m     34\u001b[0m custom_landmarks\u001b[39m.\u001b[39mlandmark\u001b[39m.\u001b[39mextend(\n\u001b[1;32m---> 35\u001b[0m     [landmarks\u001b[39m.\u001b[39;49mlandmark[index] \u001b[39mfor\u001b[39;00m index \u001b[39min\u001b[39;00m indexes])\n\u001b[0;32m     37\u001b[0m \u001b[39m# Calculate the coordinates of neck landmark\u001b[39;00m\n\u001b[0;32m     38\u001b[0m left_shoulder \u001b[39m=\u001b[39m landmark2array(\n\u001b[0;32m     39\u001b[0m     landmarks\u001b[39m.\u001b[39mlandmark[mp_pose\u001b[39m.\u001b[39mPoseLandmark\u001b[39m.\u001b[39mLEFT_SHOULDER])\n",
      "File \u001b[1;32mc:\\Users\\nemet\\DeepLearning\\venv\\Lib\\site-packages\\google\\protobuf\\internal\\containers.py:93\u001b[0m, in \u001b[0;36mBaseContainer.__getitem__\u001b[1;34m(self, key)\u001b[0m\n\u001b[0;32m     91\u001b[0m \u001b[39mdef\u001b[39;00m \u001b[39m__getitem__\u001b[39m(\u001b[39mself\u001b[39m, key):\n\u001b[0;32m     92\u001b[0m \u001b[39m  \u001b[39m\u001b[39m\"\"\"Retrieves item by the specified key.\"\"\"\u001b[39;00m\n\u001b[1;32m---> 93\u001b[0m   \u001b[39mreturn\u001b[39;00m \u001b[39mself\u001b[39;49m\u001b[39m.\u001b[39;49m_values[key]\n",
      "\u001b[1;31mIndexError\u001b[0m: list index out of range"
     ]
    }
   ],
   "source": [
    "data = prepare_dataframe()\n",
    "\n",
    "time = 0\n",
    "cap = cv2.VideoCapture(source)\n",
    "\n",
    "# Setup MediaPipe instance\n",
    "with mp_pose.Pose(\n",
    "    min_detection_confidence=0.75,\n",
    "    min_tracking_confidence=0.75,\n",
    "    enable_segmentation=True\n",
    ") as pose:\n",
    "    while cap.isOpened():\n",
    "        ret, image = cap.read()\n",
    "        image_shape = image.shape\n",
    "\n",
    "\n",
    "        # Camera condition -> if selfie or web camera is chosen then flip image\n",
    "        if source == 0:\n",
    "            image = cv2.flip(image, 1)\n",
    "    \n",
    "        # Recolor image for image processing\n",
    "        image = cv2.cvtColor(image, cv2.COLOR_BGR2RGB)\n",
    "        image.flags.writeable = False\n",
    "\n",
    "        # Image MediaPipe processing -> detection\n",
    "        results = pose.process(image)\n",
    "\n",
    "        # Recolor back to BGR for visualization\n",
    "        image.flags.writeable = True\n",
    "        image = cv2.cvtColor(image, cv2.COLOR_RGB2BGR)\n",
    "\n",
    "        # create a fake background\n",
    "        fake_background = np.zeros(shape=image_shape, dtype='uint8')\n",
    "        # use a fake background if necessary\n",
    "        if not background:\n",
    "            image = fake_background\n",
    "\n",
    "        # Image processing for different outputs\n",
    "        if output == 'landmarks':\n",
    "            default_landmarks = results.pose_landmarks\n",
    "\n",
    "            if default_landmarks:\n",
    "                time += 1\n",
    "\n",
    "                # Get custom landmarks and create new connection\n",
    "                custom_landmarks = get_custom_landmarks(chosen_indexes, default_landmarks)\n",
    "                #custom_connections.add((0, len(custom_landmarks.landmark) - 1))\n",
    "\n",
    "                # Prepare a single record storage\n",
    "                record = np.array([time])\n",
    "\n",
    "                for landmark in custom_landmarks.landmark:\n",
    "                    # Extract pose landmarks coordinates and store as array\n",
    "                    coordinates = landmark2array(landmark)[:3]\n",
    "                    record = np.concatenate(\n",
    "                        [\n",
    "                            record,\n",
    "                            coordinates\n",
    "                        ]\n",
    "                    )\n",
    "\n",
    "                # Save pose landmarks coordinates in time as DataFrame\n",
    "                data = pd.concat([data, pd.DataFrame([record], columns = column_names)], ignore_index=True)\n",
    "\n",
    "                # Draw customize landmarks on image\n",
    "                mp_drawing.draw_landmarks(\n",
    "                    image,\n",
    "                    landmark_list=custom_landmarks,\n",
    "                    connections=connections,\n",
    "                )\n",
    "\n",
    "\n",
    "        elif output == 'mask':\n",
    "            image = results.segmentation_mask\n",
    "            if image is None:\n",
    "                image = fake_background\n",
    "\n",
    "\n",
    "        cv2.imshow(f'background: {background}, output: {output}', image)\n",
    "\n",
    "        if cv2.waitKey(10) & 0xFF == ord(\"q\"):\n",
    "            break\n",
    "\n",
    "        if not cap.isOpened():\n",
    "            exit()\n",
    "            \n",
    "cap.release()\n",
    "cv2.destroyAllWindows()"
   ]
  },
  {
   "cell_type": "code",
   "execution_count": null,
   "metadata": {},
   "outputs": [],
   "source": []
  },
  {
   "cell_type": "code",
   "execution_count": null,
   "metadata": {},
   "outputs": [],
   "source": []
  },
  {
   "cell_type": "code",
   "execution_count": null,
   "metadata": {},
   "outputs": [],
   "source": []
  },
  {
   "cell_type": "code",
   "execution_count": null,
   "metadata": {},
   "outputs": [],
   "source": []
  },
  {
   "cell_type": "code",
   "execution_count": null,
   "metadata": {},
   "outputs": [],
   "source": []
  },
  {
   "cell_type": "code",
   "execution_count": null,
   "metadata": {},
   "outputs": [],
   "source": []
  },
  {
   "cell_type": "code",
   "execution_count": null,
   "metadata": {},
   "outputs": [],
   "source": []
  },
  {
   "cell_type": "code",
   "execution_count": null,
   "metadata": {},
   "outputs": [],
   "source": []
  },
  {
   "cell_type": "code",
   "execution_count": null,
   "metadata": {},
   "outputs": [],
   "source": []
  },
  {
   "cell_type": "code",
   "execution_count": null,
   "metadata": {},
   "outputs": [],
   "source": []
  }
 ],
 "metadata": {
  "kernelspec": {
   "display_name": "venv",
   "language": "python",
   "name": "python3"
  },
  "language_info": {
   "codemirror_mode": {
    "name": "ipython",
    "version": 3
   },
   "file_extension": ".py",
   "mimetype": "text/x-python",
   "name": "python",
   "nbconvert_exporter": "python",
   "pygments_lexer": "ipython3",
   "version": "3.11.4"
  },
  "orig_nbformat": 4
 },
 "nbformat": 4,
 "nbformat_minor": 2
}
