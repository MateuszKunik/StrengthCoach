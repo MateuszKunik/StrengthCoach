{
 "cells": [
  {
   "cell_type": "code",
   "execution_count": 1,
   "metadata": {},
   "outputs": [],
   "source": [
    "import os\n",
    "import numpy as np\n",
    "import pandas as pd\n",
    "import matplotlib.pyplot as plt\n",
    "\n",
    "import torch\n",
    "from torch.nn import MSELoss\n",
    "from mediapipe import solutions\n",
    "\n",
    "from utils import smooth_data, split_data\n",
    "from video_converter import Video2DataFrame\n",
    "from custom_pose_landmarks import CustomPoseLandmark\n",
    "from model_builder import RNN\n",
    "from engine import train\n",
    "from data_setup import create_dataloaders"
   ]
  },
  {
   "cell_type": "code",
   "execution_count": null,
   "metadata": {},
   "outputs": [],
   "source": [
    "# Prepare paths\n",
    "data_path = '../data/'\n",
    "video_path = os.path.join(data_path, 'raw/squat')\n",
    "\n",
    "# Read personal data from excel\n",
    "personal_data = pd.read_excel(os.path.join(data_path, 'PersonalData.xlsx'))"
   ]
  },
  {
   "cell_type": "code",
   "execution_count": null,
   "metadata": {},
   "outputs": [],
   "source": [
    "# Selected values of pose landmarks corresponding to PoseLandmark class from MediaPipe library\n",
    "values = [0, 11, 12, 13, 14, 15, 16, 19, 20, 23, 24, 25, 26, 27, 28, 31, 32]\n",
    "\n",
    "# Custom pose landmark names and their connections\n",
    "landmarks = {\n",
    "    'THORAX': ['NOSE'],\n",
    "    'PELVIS': ['LEFT_HIP', 'RIGHT_HIP'],}\n",
    "\n",
    "# MediaPipe solutions\n",
    "mp_drawing = solutions.drawing_utils\n",
    "mp_pose = solutions.pose\n",
    "\n",
    "custom_pose = CustomPoseLandmark(mp_pose, values, landmarks)"
   ]
  },
  {
   "cell_type": "code",
   "execution_count": null,
   "metadata": {},
   "outputs": [],
   "source": [
    "converter = Video2DataFrame(mp_pose, mp_drawing, custom_pose)\n",
    "\n",
    "# Convert videos to dataframe\n",
    "dataframe = converter.get_dataframe(\n",
    "    source=video_path,\n",
    "    detection=0.9,\n",
    "    tracking=0.9,\n",
    "    video_display=False\n",
    ")"
   ]
  },
  {
   "cell_type": "code",
   "execution_count": null,
   "metadata": {},
   "outputs": [],
   "source": [
    "# dataframe.to_csv('ConvertedSquats.csv', index=False)"
   ]
  },
  {
   "cell_type": "code",
   "execution_count": null,
   "metadata": {},
   "outputs": [],
   "source": [
    "dataframe = pd.read_csv('ConvertedSquats.csv')"
   ]
  },
  {
   "cell_type": "code",
   "execution_count": null,
   "metadata": {},
   "outputs": [],
   "source": [
    "# Merge personal and video data\n",
    "data = pd.merge(dataframe, personal_data, on='Id')\n",
    "\n",
    "# Calculate the maximum load that was passed\n",
    "max_load = data.loc[data['Lifted'] == 1, ['Id', 'Load']].groupby(by='Id', as_index=False).max()\n",
    "max_load = max_load.rename(columns={'Load': 'MaxLoad'})\n",
    "data = pd.merge(data, max_load, on='Id')\n",
    "\n",
    "# Calculate what percentage of the maximum load is the current load\n",
    "data['PercentageMaxLoad'] = 100 * data['Load'] / data['MaxLoad']\n",
    "\n",
    "del data['MaxLoad']\n",
    "\n",
    "# Get only lifted approaches\n",
    "data = data.loc[data['Lifted'] == 1]\n",
    "\n",
    "# Variables that aren't needed in the first run\n",
    "to_drop = [\n",
    "    'Id', 'Age', 'Height', 'Weight', 'PastInjuries', 'LastInjury', 'PainDuringTraining', 'SquatRecord',\n",
    "    'BenchPressRecord', 'DeadliftRecord', 'PhysicalActivities', 'SetNumber', 'Load', 'Lifted', 'Timestamp']\n",
    "\n",
    "data = data.drop(columns=to_drop)\n",
    "\n",
    "# Categorical variables that need to be one hot encoded\n",
    "to_one_hot = [\n",
    "    'ProficiencyLevel', 'EquipmentAvailability', 'TrainingProgram', 'TrainingFrequency', 'CameraPosition']\n",
    "\n",
    "data = pd.get_dummies(data, columns=to_one_hot, dtype=int)\n",
    "\n",
    "# Move the PercentageMaxLoad column to the end of the dataframe\n",
    "percentage = data.pop('PercentageMaxLoad')\n",
    "data['PercentageMaxLoad'] = percentage\n",
    "\n",
    "# Smooth all features extracted from MediaPipe solution\n",
    "data = smooth_data(data, frac=0.1, it=3)"
   ]
  },
  {
   "cell_type": "code",
   "execution_count": 40,
   "metadata": {},
   "outputs": [],
   "source": [
    "# data.to_csv('OneRepMaxData.csv', index=False)"
   ]
  },
  {
   "cell_type": "code",
   "execution_count": 41,
   "metadata": {},
   "outputs": [],
   "source": [
    "data = pd.read_csv('OneRepMaxData.csv')"
   ]
  },
  {
   "cell_type": "code",
   "execution_count": 3,
   "metadata": {},
   "outputs": [],
   "source": [
    "# Get dictionary of file ids assingned to different datasets\n",
    "file_ids = split_data(data)\n",
    "\n",
    "# Setup hyperparameters\n",
    "BATCH_SIZE = 128\n",
    "NUM_WORKERS = 0\n",
    "PIN_MEMORY = True\n",
    "\n",
    "train_dataloader, valid_dataloader, test_dataloader = create_dataloaders(\n",
    "    data=data,\n",
    "    file_ids=file_ids,\n",
    "    batch_size=BATCH_SIZE,\n",
    "    num_workers=NUM_WORKERS,\n",
    "    pin_memory=PIN_MEMORY\n",
    ")"
   ]
  },
  {
   "cell_type": "code",
   "execution_count": 4,
   "metadata": {},
   "outputs": [],
   "source": [
    "import torch.nn as nn\n",
    "\n",
    "class RMSELoss(nn.Module):\n",
    "    \"\"\"\n",
    "    \n",
    "    \"\"\"\n",
    "    def __init__(self, eps=1e-6):\n",
    "        super().__init__()\n",
    "        self.mse = nn.MSELoss()\n",
    "        self.eps = eps\n",
    "\n",
    "    def forward(self, y_hat, y):\n",
    "        loss = torch.sqrt(self.mse(y_hat, y) + self.eps)\n",
    "        return loss"
   ]
  },
  {
   "cell_type": "code",
   "execution_count": 32,
   "metadata": {},
   "outputs": [],
   "source": [
    "SEED = 0\n",
    "torch.manual_seed(SEED)\n",
    "torch.cuda.manual_seed(SEED)\n",
    "\n",
    "# Setup hyperparameters\n",
    "INPUT_SIZE = 78\n",
    "HIDDEN_SIZE = 512\n",
    "NUM_LAYERS = 5\n",
    "DEVICE = 'cuda' if torch.cuda.is_available() else 'cpu'\n",
    "\n",
    "# Initialize RNN model class instance\n",
    "model = RNN(\n",
    "    input_size=INPUT_SIZE,\n",
    "    hidden_size=HIDDEN_SIZE,\n",
    "    num_layers=NUM_LAYERS)\n",
    "\n",
    "# Send model to device\n",
    "model = model.to(device=DEVICE)"
   ]
  },
  {
   "cell_type": "code",
   "execution_count": 33,
   "metadata": {},
   "outputs": [],
   "source": [
    "NUM_EPOCHS = 20\n",
    "LEARNING_RATE = 0.001\n",
    "\n",
    "optimizer = torch.optim.Adam(model.parameters(), lr=LEARNING_RATE)\n",
    "loss_fn = RMSELoss()"
   ]
  },
  {
   "cell_type": "code",
   "execution_count": 34,
   "metadata": {},
   "outputs": [],
   "source": [
    "torch.cuda.empty_cache()"
   ]
  },
  {
   "cell_type": "code",
   "execution_count": 35,
   "metadata": {},
   "outputs": [
    {
     "data": {
      "application/vnd.jupyter.widget-view+json": {
       "model_id": "c992231e0ffa41178770971dca3c95d1",
       "version_major": 2,
       "version_minor": 0
      },
      "text/plain": [
       "  0%|          | 0/20 [00:00<?, ?it/s]"
      ]
     },
     "metadata": {},
     "output_type": "display_data"
    },
    {
     "name": "stdout",
     "output_type": "stream",
     "text": [
      "Epoch: 1 | train loss: 64.8210 | validation loss: 59.4053\n",
      "Epoch: 2 | train loss: 58.3386 | validation loss: 52.7342\n",
      "Epoch: 3 | train loss: 50.9325 | validation loss: 44.4490\n",
      "Epoch: 4 | train loss: 41.8925 | validation loss: 34.9720\n",
      "Epoch: 5 | train loss: 32.0149 | validation loss: 25.7678\n",
      "Epoch: 6 | train loss: 23.6297 | validation loss: 21.2932\n",
      "Epoch: 7 | train loss: 21.2961 | validation loss: 22.7091\n",
      "Epoch: 8 | train loss: 21.6490 | validation loss: 22.4471\n",
      "Epoch: 9 | train loss: 21.0962 | validation loss: 21.4389\n",
      "Epoch: 10 | train loss: 20.8974 | validation loss: 21.2770\n",
      "Epoch: 11 | train loss: 20.9181 | validation loss: 21.2965\n",
      "Epoch: 12 | train loss: 20.8545 | validation loss: 21.3951\n",
      "Epoch: 13 | train loss: 20.8205 | validation loss: 21.4494\n",
      "Epoch: 14 | train loss: 20.8735 | validation loss: 21.4175\n",
      "Epoch: 15 | train loss: 20.8561 | validation loss: 21.3603\n",
      "Epoch: 16 | train loss: 20.8255 | validation loss: 21.3538\n",
      "Epoch: 17 | train loss: 20.8534 | validation loss: 21.3450\n",
      "Epoch: 18 | train loss: 20.7897 | validation loss: 21.4163\n",
      "Epoch: 19 | train loss: 20.8319 | validation loss: 21.4230\n",
      "Epoch: 20 | train loss: 20.8486 | validation loss: 21.3782\n"
     ]
    }
   ],
   "source": [
    "results = train(model, train_dataloader, valid_dataloader, optimizer, loss_fn, NUM_EPOCHS, DEVICE)"
   ]
  },
  {
   "cell_type": "code",
   "execution_count": 36,
   "metadata": {},
   "outputs": [
    {
     "data": {
      "text/plain": [
       "<matplotlib.legend.Legend at 0x17d1765a210>"
      ]
     },
     "execution_count": 36,
     "metadata": {},
     "output_type": "execute_result"
    },
    {
     "data": {
      "image/png": "[encoded data removed]",
      "text/plain": [
       "<Figure size 640x480 with 1 Axes>"
      ]
     },
     "metadata": {},
     "output_type": "display_data"
    }
   ],
   "source": [
    "plt.plot(range(1, NUM_EPOCHS + 1), results['train_loss']);\n",
    "plt.plot(range(1, NUM_EPOCHS + 1), results['valid_loss']);\n",
    "plt.legend(['train loss curve', 'valid loss curve'])"
   ]
  },
  {
   "cell_type": "code",
   "execution_count": 37,
   "metadata": {},
   "outputs": [],
   "source": [
    "# Put model in evaluation mode\n",
    "model.eval()\n",
    "\n",
    "# Turn on inference context manager\n",
    "with torch.inference_mode():\n",
    "    # Loop through DataLoader batches\n",
    "    for data, targets in train_dataloader:\n",
    "        # Send data to target device\n",
    "        data, targets = data.to(DEVICE), targets.to(DEVICE)\n",
    "\n",
    "        # Forward pass\n",
    "        predictions = model(data)\n",
    "\n",
    "        # Calculate and accumulate loss\n",
    "        loss = loss_fn(targets, predictions)"
   ]
  },
  {
   "cell_type": "code",
   "execution_count": 38,
   "metadata": {},
   "outputs": [
    {
     "data": {
      "text/html": [
       "<div>\n",
       "<style scoped>\n",
       "    .dataframe tbody tr th:only-of-type {\n",
       "        vertical-align: middle;\n",
       "    }\n",
       "\n",
       "    .dataframe tbody tr th {\n",
       "        vertical-align: top;\n",
       "    }\n",
       "\n",
       "    .dataframe thead th {\n",
       "        text-align: right;\n",
       "    }\n",
       "</style>\n",
       "<table border=\"1\" class=\"dataframe\">\n",
       "  <thead>\n",
       "    <tr style=\"text-align: right;\">\n",
       "      <th></th>\n",
       "      <th>targets</th>\n",
       "      <th>predictions</th>\n",
       "    </tr>\n",
       "  </thead>\n",
       "  <tbody>\n",
       "    <tr>\n",
       "      <th>0</th>\n",
       "      <td>63.043480</td>\n",
       "      <td>63.368301</td>\n",
       "    </tr>\n",
       "    <tr>\n",
       "      <th>1</th>\n",
       "      <td>81.250000</td>\n",
       "      <td>63.368301</td>\n",
       "    </tr>\n",
       "    <tr>\n",
       "      <th>2</th>\n",
       "      <td>22.222221</td>\n",
       "      <td>63.368301</td>\n",
       "    </tr>\n",
       "    <tr>\n",
       "      <th>3</th>\n",
       "      <td>14.285714</td>\n",
       "      <td>63.368301</td>\n",
       "    </tr>\n",
       "    <tr>\n",
       "      <th>4</th>\n",
       "      <td>40.625000</td>\n",
       "      <td>63.368301</td>\n",
       "    </tr>\n",
       "    <tr>\n",
       "      <th>...</th>\n",
       "      <td>...</td>\n",
       "      <td>...</td>\n",
       "    </tr>\n",
       "    <tr>\n",
       "      <th>103</th>\n",
       "      <td>68.181816</td>\n",
       "      <td>63.368301</td>\n",
       "    </tr>\n",
       "    <tr>\n",
       "      <th>104</th>\n",
       "      <td>54.838711</td>\n",
       "      <td>63.368301</td>\n",
       "    </tr>\n",
       "    <tr>\n",
       "      <th>105</th>\n",
       "      <td>70.588234</td>\n",
       "      <td>63.368301</td>\n",
       "    </tr>\n",
       "    <tr>\n",
       "      <th>106</th>\n",
       "      <td>75.000000</td>\n",
       "      <td>63.368301</td>\n",
       "    </tr>\n",
       "    <tr>\n",
       "      <th>107</th>\n",
       "      <td>75.000000</td>\n",
       "      <td>63.368301</td>\n",
       "    </tr>\n",
       "  </tbody>\n",
       "</table>\n",
       "<p>108 rows × 2 columns</p>\n",
       "</div>"
      ],
      "text/plain": [
       "       targets  predictions\n",
       "0    63.043480    63.368301\n",
       "1    81.250000    63.368301\n",
       "2    22.222221    63.368301\n",
       "3    14.285714    63.368301\n",
       "4    40.625000    63.368301\n",
       "..         ...          ...\n",
       "103  68.181816    63.368301\n",
       "104  54.838711    63.368301\n",
       "105  70.588234    63.368301\n",
       "106  75.000000    63.368301\n",
       "107  75.000000    63.368301\n",
       "\n",
       "[108 rows x 2 columns]"
      ]
     },
     "execution_count": 38,
     "metadata": {},
     "output_type": "execute_result"
    }
   ],
   "source": [
    "pd.DataFrame({'targets': targets.cpu().squeeze(), 'predictions': predictions.cpu().squeeze()}, index=range(len(targets.cpu())))"
   ]
  },
  {
   "cell_type": "code",
   "execution_count": null,
   "metadata": {},
   "outputs": [],
   "source": []
  },
  {
   "cell_type": "code",
   "execution_count": null,
   "metadata": {},
   "outputs": [],
   "source": []
  },
  {
   "cell_type": "code",
   "execution_count": null,
   "metadata": {},
   "outputs": [],
   "source": []
  },
  {
   "cell_type": "code",
   "execution_count": null,
   "metadata": {},
   "outputs": [],
   "source": []
  },
  {
   "cell_type": "code",
   "execution_count": null,
   "metadata": {},
   "outputs": [],
   "source": []
  }
 ],
 "metadata": {
  "kernelspec": {
   "display_name": "venv",
   "language": "python",
   "name": "python3"
  },
  "language_info": {
   "codemirror_mode": {
    "name": "ipython",
    "version": 3
   },
   "file_extension": ".py",
   "mimetype": "text/x-python",
   "name": "python",
   "nbconvert_exporter": "python",
   "pygments_lexer": "ipython3",
   "version": "3.11.1"
  }
 },
 "nbformat": 4,
 "nbformat_minor": 2
}
